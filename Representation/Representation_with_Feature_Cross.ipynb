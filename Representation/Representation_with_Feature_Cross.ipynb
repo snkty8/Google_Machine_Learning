{
 "cells": [
  {
   "cell_type": "code",
   "execution_count": 1,
   "metadata": {},
   "outputs": [
    {
     "name": "stdout",
     "output_type": "stream",
     "text": [
      "Imported the modules.\n"
     ]
    }
   ],
   "source": [
    "#@title Load the imports\n",
    "\n",
    "# from __future__ import absolute_import, division, print_function, unicode_literals\n",
    "\n",
    "import numpy as np\n",
    "import pandas as pd\n",
    "import tensorflow as tf\n",
    "from tensorflow import feature_column\n",
    "from tensorflow.keras import layers\n",
    "\n",
    "from matplotlib import pyplot as plt\n",
    "\n",
    "# The following lines adjust the granularity of reporting.\n",
    "pd.options.display.max_rows = 10\n",
    "pd.options.display.float_format = \"{:.1f}\".format\n",
    "\n",
    "tf.keras.backend.set_floatx('float32')\n",
    "\n",
    "print(\"Imported the modules.\")"
   ]
  },
  {
   "cell_type": "code",
   "execution_count": 2,
   "metadata": {},
   "outputs": [],
   "source": [
    "# Load the dataset\n",
    "train_df = pd.read_csv(\"https://download.mlcc.google.com/mledu-datasets/california_housing_train.csv\")\n",
    "test_df = pd.read_csv(\"https://download.mlcc.google.com/mledu-datasets/california_housing_test.csv\")\n",
    "\n",
    "# Scale the labels\n",
    "scale_factor = 1000.0\n",
    "# Scale the training set's label.\n",
    "train_df[\"median_house_value\"] /= scale_factor \n",
    "\n",
    "# Scale the test set's label\n",
    "test_df[\"median_house_value\"] /= scale_factor\n",
    "\n",
    "# Shuffle the examples\n",
    "train_df = train_df.reindex(np.random.permutation(train_df.index))"
   ]
  },
  {
   "cell_type": "markdown",
   "metadata": {},
   "source": [
    "Represent latitude and longitude as floating-point values\n",
    "Previous Colabs trained on only a single feature or a single synthetic feature. By contrast, this exercise trains on two features. Furthermore, this Colab introduces feature columns, which provide a sophisticated way to represent features.\n",
    "\n",
    "You create feature columns as possible:\n",
    "\n",
    "Call a tf.feature_column method to represent a single feature, single feature cross, or single synthetic feature in the desired way. For example, to represent a certain feature as floating-point values, call tf.feature_column.numeric_column. To represent a certain feature as a series of buckets or bins, call tf.feature_column.bucketized_column.\n",
    "Assemble the created representations into a Python list.\n",
    "A neighborhood's location is typically the most important feature in determining a house's value. The California Housing dataset provides two features, latitude and longitude that identify each neighborhood's location.\n",
    "\n",
    "The following code cell calls tf.feature_column.numeric_column twice, first to represent latitude as floating-point value and a second time to represent longitude as floating-point values.\n",
    "\n",
    "This code cell specifies the features that you'll ultimately train the model on and how each of those features will be represented. The transformations (collected in fp_feature_layer) don't actually get applied until you pass a DataFrame to it, which will happen when we train the model.\n",
    "\n"
   ]
  },
  {
   "cell_type": "code",
   "execution_count": 3,
   "metadata": {},
   "outputs": [],
   "source": [
    "# Create an empty list that will eventually hold all feature columns.\n",
    "feature_columns = []\n",
    "\n",
    "# Create a numerical feature column to represent latitude.\n",
    "latitude = tf.feature_column.numeric_column(\"latitude\")\n",
    "feature_columns.append(latitude)\n",
    "\n",
    "# Create a numerical feature column to represent longitude.\n",
    "longitude = tf.feature_column.numeric_column(\"longitude\")\n",
    "feature_columns.append(longitude)\n",
    "\n",
    "# Convert the list of feature columns into a layer that will ultimately become\n",
    "# part of the model. Understanding layers is not important right now.\n",
    "fp_feature_layer = layers.DenseFeatures(feature_columns)"
   ]
  },
  {
   "cell_type": "code",
   "execution_count": 4,
   "metadata": {},
   "outputs": [
    {
     "name": "stdout",
     "output_type": "stream",
     "text": [
      "Defined the create_model, train_model, and plot_the_loss_curve functions.\n"
     ]
    }
   ],
   "source": [
    "#@title Define functions to create and train a model, and a plotting function\n",
    "def create_model(my_learning_rate, feature_layer):\n",
    "  \"\"\"Create and compile a simple linear regression model.\"\"\"\n",
    "  # Most simple tf.keras models are sequential.\n",
    "  model = tf.keras.models.Sequential()\n",
    "\n",
    "  # Add the layer containing the feature columns to the model.\n",
    "  model.add(feature_layer)\n",
    "\n",
    "  # Add one linear layer to the model to yield a simple linear regressor.\n",
    "  model.add(tf.keras.layers.Dense(units=1, input_shape=(1,)))\n",
    "\n",
    "  # Construct the layers into a model that TensorFlow can execute.\n",
    "  model.compile(optimizer=tf.keras.optimizers.RMSprop(lr=my_learning_rate),\n",
    "                loss=\"mean_squared_error\",\n",
    "                metrics=[tf.keras.metrics.RootMeanSquaredError()])\n",
    "\n",
    "  return model           \n",
    "\n",
    "\n",
    "def train_model(model, dataset, epochs, batch_size, label_name):\n",
    "  \"\"\"Feed a dataset into the model in order to train it.\"\"\"\n",
    "\n",
    "  features = {name:np.array(value) for name, value in dataset.items()}\n",
    "  label = np.array(features.pop(label_name))\n",
    "  history = model.fit(x=features, y=label, batch_size=batch_size,\n",
    "                      epochs=epochs, shuffle=True)\n",
    "\n",
    "  # The list of epochs is stored separately from the rest of history.\n",
    "  epochs = history.epoch\n",
    "  \n",
    "  # Isolate the mean absolute error for each epoch.\n",
    "  hist = pd.DataFrame(history.history)\n",
    "  rmse = hist[\"root_mean_squared_error\"]\n",
    "\n",
    "  return epochs, rmse   \n",
    "\n",
    "\n",
    "def plot_the_loss_curve(epochs, rmse):\n",
    "  \"\"\"Plot a curve of loss vs. epoch.\"\"\"\n",
    "\n",
    "  plt.figure()\n",
    "  plt.xlabel(\"Epoch\")\n",
    "  plt.ylabel(\"Root Mean Squared Error\")\n",
    "\n",
    "  plt.plot(epochs, rmse, label=\"Loss\")\n",
    "  plt.legend()\n",
    "  plt.ylim([rmse.min()*0.94, rmse.max()* 1.05])\n",
    "  plt.show()  \n",
    "\n",
    "print(\"Defined the create_model, train_model, and plot_the_loss_curve functions.\")"
   ]
  },
  {
   "cell_type": "code",
   "execution_count": 5,
   "metadata": {},
   "outputs": [
    {
     "name": "stderr",
     "output_type": "stream",
     "text": [
      "C:\\Users\\snkty\\anaconda3\\envs\\PythonData\\lib\\site-packages\\tensorflow\\python\\keras\\optimizer_v2\\optimizer_v2.py:375: UserWarning: The `lr` argument is deprecated, use `learning_rate` instead.\n",
      "  \"The `lr` argument is deprecated, use `learning_rate` instead.\")\n"
     ]
    },
    {
     "name": "stdout",
     "output_type": "stream",
     "text": [
      "Epoch 1/30\n",
      "WARNING:tensorflow:Layers in a Sequential model should only have a single input tensor, but we receive a <class 'dict'> input: {'longitude': <tf.Tensor 'ExpandDims_3:0' shape=(100, 1) dtype=float32>, 'latitude': <tf.Tensor 'ExpandDims_2:0' shape=(100, 1) dtype=float32>, 'housing_median_age': <tf.Tensor 'ExpandDims_1:0' shape=(100, 1) dtype=float32>, 'total_rooms': <tf.Tensor 'ExpandDims_7:0' shape=(100, 1) dtype=float32>, 'total_bedrooms': <tf.Tensor 'ExpandDims_6:0' shape=(100, 1) dtype=float32>, 'population': <tf.Tensor 'ExpandDims_5:0' shape=(100, 1) dtype=float32>, 'households': <tf.Tensor 'ExpandDims:0' shape=(100, 1) dtype=float32>, 'median_income': <tf.Tensor 'ExpandDims_4:0' shape=(100, 1) dtype=float32>}\n",
      "Consider rewriting this model with the Functional API.\n",
      "WARNING:tensorflow:Layers in a Sequential model should only have a single input tensor, but we receive a <class 'dict'> input: {'longitude': <tf.Tensor 'ExpandDims_3:0' shape=(100, 1) dtype=float32>, 'latitude': <tf.Tensor 'ExpandDims_2:0' shape=(100, 1) dtype=float32>, 'housing_median_age': <tf.Tensor 'ExpandDims_1:0' shape=(100, 1) dtype=float32>, 'total_rooms': <tf.Tensor 'ExpandDims_7:0' shape=(100, 1) dtype=float32>, 'total_bedrooms': <tf.Tensor 'ExpandDims_6:0' shape=(100, 1) dtype=float32>, 'population': <tf.Tensor 'ExpandDims_5:0' shape=(100, 1) dtype=float32>, 'households': <tf.Tensor 'ExpandDims:0' shape=(100, 1) dtype=float32>, 'median_income': <tf.Tensor 'ExpandDims_4:0' shape=(100, 1) dtype=float32>}\n",
      "Consider rewriting this model with the Functional API.\n",
      "170/170 [==============================] - 1s 2ms/step - loss: 13517.4531 - root_mean_squared_error: 116.2646\n",
      "Epoch 2/30\n",
      "170/170 [==============================] - 0s 2ms/step - loss: 13439.8564 - root_mean_squared_error: 115.9304\n",
      "Epoch 3/30\n",
      "170/170 [==============================] - 0s 2ms/step - loss: 13387.8457 - root_mean_squared_error: 115.7059\n",
      "Epoch 4/30\n",
      "170/170 [==============================] - 0s 2ms/step - loss: 13344.1768 - root_mean_squared_error: 115.5170\n",
      "Epoch 5/30\n",
      "170/170 [==============================] - 0s 2ms/step - loss: 13301.3955 - root_mean_squared_error: 115.3317\n",
      "Epoch 6/30\n",
      "170/170 [==============================] - 0s 2ms/step - loss: 13270.7588 - root_mean_squared_error: 115.1988\n",
      "Epoch 7/30\n",
      "170/170 [==============================] - 0s 2ms/step - loss: 13235.1982 - root_mean_squared_error: 115.0443\n",
      "Epoch 8/30\n",
      "170/170 [==============================] - 0s 2ms/step - loss: 13188.2363 - root_mean_squared_error: 114.8400\n",
      "Epoch 9/30\n",
      "170/170 [==============================] - 0s 2ms/step - loss: 13174.2754 - root_mean_squared_error: 114.7792\n",
      "Epoch 10/30\n",
      "170/170 [==============================] - 0s 2ms/step - loss: 13140.3516 - root_mean_squared_error: 114.6314\n",
      "Epoch 11/30\n",
      "170/170 [==============================] - 0s 2ms/step - loss: 13117.9502 - root_mean_squared_error: 114.5336\n",
      "Epoch 12/30\n",
      "170/170 [==============================] - 0s 2ms/step - loss: 13089.2617 - root_mean_squared_error: 114.4083\n",
      "Epoch 13/30\n",
      "170/170 [==============================] - 0s 2ms/step - loss: 13064.7744 - root_mean_squared_error: 114.3012\n",
      "Epoch 14/30\n",
      "170/170 [==============================] - 0s 2ms/step - loss: 13048.0791 - root_mean_squared_error: 114.2282\n",
      "Epoch 15/30\n",
      "170/170 [==============================] - 0s 2ms/step - loss: 13021.6875 - root_mean_squared_error: 114.1126\n",
      "Epoch 16/30\n",
      "170/170 [==============================] - 0s 2ms/step - loss: 13001.1543 - root_mean_squared_error: 114.0226\n",
      "Epoch 17/30\n",
      "170/170 [==============================] - 0s 2ms/step - loss: 12988.6309 - root_mean_squared_error: 113.9677\n",
      "Epoch 18/30\n",
      "170/170 [==============================] - 0s 2ms/step - loss: 12950.5000 - root_mean_squared_error: 113.8003\n",
      "Epoch 19/30\n",
      "170/170 [==============================] - 0s 2ms/step - loss: 12956.7119 - root_mean_squared_error: 113.8276\n",
      "Epoch 20/30\n",
      "170/170 [==============================] - 0s 2ms/step - loss: 12943.5449 - root_mean_squared_error: 113.7697\n",
      "Epoch 21/30\n",
      "170/170 [==============================] - 0s 2ms/step - loss: 12918.6318 - root_mean_squared_error: 113.6602\n",
      "Epoch 22/30\n",
      "170/170 [==============================] - 0s 2ms/step - loss: 12900.8906 - root_mean_squared_error: 113.5821\n",
      "Epoch 23/30\n",
      "170/170 [==============================] - 0s 2ms/step - loss: 12899.3164 - root_mean_squared_error: 113.5752\n",
      "Epoch 24/30\n",
      "170/170 [==============================] - 0s 2ms/step - loss: 12887.7559 - root_mean_squared_error: 113.5243\n",
      "Epoch 25/30\n",
      "170/170 [==============================] - 0s 2ms/step - loss: 12870.3418 - root_mean_squared_error: 113.4475\n",
      "Epoch 26/30\n",
      "170/170 [==============================] - 0s 2ms/step - loss: 12859.5850 - root_mean_squared_error: 113.4001\n",
      "Epoch 27/30\n",
      "170/170 [==============================] - 0s 2ms/step - loss: 12844.2832 - root_mean_squared_error: 113.3326\n",
      "Epoch 28/30\n",
      "170/170 [==============================] - 0s 2ms/step - loss: 12842.8438 - root_mean_squared_error: 113.3263\n",
      "Epoch 29/30\n",
      "170/170 [==============================] - 0s 2ms/step - loss: 12816.2344 - root_mean_squared_error: 113.2088\n",
      "Epoch 30/30\n",
      "170/170 [==============================] - 0s 2ms/step - loss: 12830.0352 - root_mean_squared_error: 113.2697\n"
     ]
    },
    {
     "data": {
      "image/png": "[encoded data removed]",
      "text/plain": [
       "<Figure size 432x288 with 1 Axes>"
      ]
     },
     "metadata": {
      "needs_background": "light"
     },
     "output_type": "display_data"
    },
    {
     "name": "stdout",
     "output_type": "stream",
     "text": [
      "\n",
      ": Evaluate the new model against the test set:\n",
      "WARNING:tensorflow:Layers in a Sequential model should only have a single input tensor, but we receive a <class 'dict'> input: {'longitude': <tf.Tensor 'ExpandDims_3:0' shape=(100, 1) dtype=float32>, 'latitude': <tf.Tensor 'ExpandDims_2:0' shape=(100, 1) dtype=float32>, 'housing_median_age': <tf.Tensor 'ExpandDims_1:0' shape=(100, 1) dtype=float32>, 'total_rooms': <tf.Tensor 'ExpandDims_7:0' shape=(100, 1) dtype=float32>, 'total_bedrooms': <tf.Tensor 'ExpandDims_6:0' shape=(100, 1) dtype=float32>, 'population': <tf.Tensor 'ExpandDims_5:0' shape=(100, 1) dtype=float32>, 'households': <tf.Tensor 'ExpandDims:0' shape=(100, 1) dtype=float32>, 'median_income': <tf.Tensor 'ExpandDims_4:0' shape=(100, 1) dtype=float32>}\n",
      "Consider rewriting this model with the Functional API.\n",
      "30/30 [==============================] - 0s 2ms/step - loss: 12162.1104 - root_mean_squared_error: 110.2820\n"
     ]
    },
    {
     "data": {
      "text/plain": [
       "[12162.1103515625, 110.2819595336914]"
      ]
     },
     "execution_count": 5,
     "metadata": {},
     "output_type": "execute_result"
    }
   ],
   "source": [
    "# The following variables are the hyperparameters.\n",
    "learning_rate = 0.05\n",
    "epochs = 30\n",
    "batch_size = 100\n",
    "label_name = 'median_house_value'\n",
    "\n",
    "# Create and compile the model's topography.\n",
    "my_model = create_model(learning_rate, fp_feature_layer)\n",
    "\n",
    "# Train the model on the training set.\n",
    "epochs, rmse = train_model(my_model, train_df, epochs, batch_size, label_name)\n",
    "\n",
    "plot_the_loss_curve(epochs, rmse)\n",
    "\n",
    "print(\"\\n: Evaluate the new model against the test set:\")\n",
    "test_features = {name:np.array(value) for name, value in test_df.items()}\n",
    "test_label = np.array(test_features.pop(label_name))\n",
    "my_model.evaluate(x=test_features, y=test_label, batch_size=batch_size)"
   ]
  },
  {
   "cell_type": "code",
   "execution_count": null,
   "metadata": {},
   "outputs": [],
   "source": []
  }
 ],
 "metadata": {
  "kernelspec": {
   "display_name": "Python 3",
   "language": "python",
   "name": "python3"
  },
  "language_info": {
   "codemirror_mode": {
    "name": "ipython",
    "version": 3
   },
   "file_extension": ".py",
   "mimetype": "text/x-python",
   "name": "python",
   "nbconvert_exporter": "python",
   "pygments_lexer": "ipython3",
   "version": "3.7.9"
  }
 },
 "nbformat": 4,
 "nbformat_minor": 4
}
