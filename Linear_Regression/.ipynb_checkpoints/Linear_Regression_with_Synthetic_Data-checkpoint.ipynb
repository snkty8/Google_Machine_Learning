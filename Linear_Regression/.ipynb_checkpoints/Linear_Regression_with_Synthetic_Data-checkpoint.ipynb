{
 "cells": [
  {
   "cell_type": "code",
   "execution_count": 1,
   "metadata": {},
   "outputs": [],
   "source": [
    "import pandas as pd\n",
    "import tensorflow as tf\n",
    "from matplotlib import pyplot as plt"
   ]
  },
  {
   "cell_type": "code",
   "execution_count": 2,
   "metadata": {},
   "outputs": [],
   "source": [
    "my_feature = ([1.0, 2.0,  3.0,  4.0,  5.0,  6.0,  7.0,  8.0,  9.0, 10.0, 11.0, 12.0])\n",
    "my_label   = ([5.0, 8.8,  9.6, 14.2, 18.8, 19.5, 21.4, 26.8, 28.9, 32.0, 33.8, 38.2])"
   ]
  },
  {
   "cell_type": "code",
   "execution_count": 4,
   "metadata": {},
   "outputs": [
    {
     "name": "stdout",
     "output_type": "stream",
     "text": [
      "Defined create_model and train_model\n"
     ]
    }
   ],
   "source": [
    "#@title Define the functions that build and train a model\n",
    "def build_model(my_learning_rate):\n",
    "  \"\"\"Create and compile a simple linear regression model.\"\"\"\n",
    "  # Most simple tf.keras models are sequential. \n",
    "  # A sequential model contains one or more layers.\n",
    "  model = tf.keras.models.Sequential()\n",
    "\n",
    "  # Describe the topography of the model.\n",
    "  # The topography of a simple linear regression model\n",
    "  # is a single node in a single layer. \n",
    "  model.add(tf.keras.layers.Dense(units=1, \n",
    "                                  input_shape=(1,)))\n",
    "\n",
    "  # Compile the model topography into code that \n",
    "  # TensorFlow can efficiently execute. Configure \n",
    "  # training to minimize the model's mean squared error. \n",
    "  model.compile(optimizer=tf.keras.optimizers.RMSprop(lr=my_learning_rate),\n",
    "                loss=\"mean_squared_error\",\n",
    "                metrics=[tf.keras.metrics.RootMeanSquaredError()])\n",
    "\n",
    "  return model           \n",
    "\n",
    "\n",
    "def train_model(model, feature, label, epochs, batch_size):\n",
    "  \"\"\"Train the model by feeding it data.\"\"\"\n",
    "\n",
    "  # Feed the feature values and the label values to the \n",
    "  # model. The model will train for the specified number \n",
    "  # of epochs, gradually learning how the feature values\n",
    "  # relate to the label values. \n",
    "  history = model.fit(x=feature,\n",
    "                      y=label,\n",
    "                      batch_size=batch_size,\n",
    "                      epochs=epochs)\n",
    "\n",
    "  # Gather the trained model's weight and bias.\n",
    "  trained_weight = model.get_weights()[0]\n",
    "  trained_bias = model.get_weights()[1]\n",
    "\n",
    "  # The list of epochs is stored separately from the \n",
    "  # rest of history.\n",
    "  epochs = history.epoch\n",
    "  \n",
    "  # Gather the history (a snapshot) of each epoch.\n",
    "  hist = pd.DataFrame(history.history)\n",
    "\n",
    "  # Specifically gather the model's root mean \n",
    "  #squared error at each epoch. \n",
    "  rmse = hist[\"root_mean_squared_error\"]\n",
    "\n",
    "  return trained_weight, trained_bias, epochs, rmse\n",
    "\n",
    "print(\"Defined create_model and train_model\")"
   ]
  },
  {
   "cell_type": "code",
   "execution_count": 6,
   "metadata": {},
   "outputs": [
    {
     "name": "stdout",
     "output_type": "stream",
     "text": [
      "Defined the plot_the_model and plot_the_loss_curve functions.\n"
     ]
    }
   ],
   "source": [
    "#@title Define the plotting functions\n",
    "def plot_the_model(trained_weight, trained_bias, feature, label):\n",
    "  \"\"\"Plot the trained model against the training feature and label.\"\"\"\n",
    "\n",
    "  # Label the axes.\n",
    "  plt.xlabel(\"feature\")\n",
    "  plt.ylabel(\"label\")\n",
    "\n",
    "  # Plot the feature values vs. label values.\n",
    "  plt.scatter(feature, label)\n",
    "\n",
    "  # Create a red line representing the model. The red line starts\n",
    "  # at coordinates (x0, y0) and ends at coordinates (x1, y1).\n",
    "  x0 = 0\n",
    "  y0 = trained_bias\n",
    "  x1 = feature[-1]\n",
    "  y1 = trained_bias + (trained_weight * x1)\n",
    "  plt.plot([x0, x1], [y0, y1], c='r')\n",
    "\n",
    "  # Render the scatter plot and the red line.\n",
    "  plt.show()\n",
    "\n",
    "def plot_the_loss_curve(epochs, rmse):\n",
    "  \"\"\"Plot the loss curve, which shows loss vs. epoch.\"\"\"\n",
    "\n",
    "  plt.figure()\n",
    "  plt.xlabel(\"Epoch\")\n",
    "  plt.ylabel(\"Root Mean Squared Error\")\n",
    "\n",
    "  plt.plot(epochs, rmse, label=\"Loss\")\n",
    "  plt.legend()\n",
    "  plt.ylim([rmse.min()*0.97, rmse.max()])\n",
    "  plt.show()\n",
    "\n",
    "print(\"Defined the plot_the_model and plot_the_loss_curve functions.\")"
   ]
  },
  {
   "cell_type": "code",
   "execution_count": 7,
   "metadata": {},
   "outputs": [
    {
     "name": "stdout",
     "output_type": "stream",
     "text": [
      "Epoch 1/10\n",
      "1/1 [==============================] - 0s 378ms/step - loss: 708.9814 - root_mean_squared_error: 26.6267\n",
      "Epoch 2/10\n",
      "1/1 [==============================] - 0s 8ms/step - loss: 695.1567 - root_mean_squared_error: 26.3658\n",
      "Epoch 3/10\n",
      "1/1 [==============================] - 0s 9ms/step - loss: 685.2590 - root_mean_squared_error: 26.1775\n",
      "Epoch 4/10\n",
      "1/1 [==============================] - 0s 7ms/step - loss: 677.0493 - root_mean_squared_error: 26.0202\n",
      "Epoch 5/10\n",
      "1/1 [==============================] - 0s 7ms/step - loss: 669.8185 - root_mean_squared_error: 25.8809\n",
      "Epoch 6/10\n",
      "1/1 [==============================] - 0s 6ms/step - loss: 663.2377 - root_mean_squared_error: 25.7534\n",
      "Epoch 7/10\n",
      "1/1 [==============================] - 0s 7ms/step - loss: 657.1242 - root_mean_squared_error: 25.6344\n",
      "Epoch 8/10\n",
      "1/1 [==============================] - 0s 7ms/step - loss: 651.3642 - root_mean_squared_error: 25.5218\n",
      "Epoch 9/10\n",
      "1/1 [==============================] - 0s 7ms/step - loss: 645.8816 - root_mean_squared_error: 25.4142\n",
      "Epoch 10/10\n",
      "1/1 [==============================] - 0s 7ms/step - loss: 640.6228 - root_mean_squared_error: 25.3105\n"
     ]
    },
    {
     "name": "stderr",
     "output_type": "stream",
     "text": [
      "C:\\Users\\snkty\\anaconda3\\envs\\PythonData\\lib\\site-packages\\numpy\\core\\_asarray.py:136: VisibleDeprecationWarning: Creating an ndarray from ragged nested sequences (which is a list-or-tuple of lists-or-tuples-or ndarrays with different lengths or shapes) is deprecated. If you meant to do this, you must specify 'dtype=object' when creating the ndarray\n",
      "  return array(a, dtype, copy=False, order=order, subok=True)\n"
     ]
    },
    {
     "data": {
      "image/png": "[encoded data removed]",
      "text/plain": [
       "<Figure size 432x288 with 1 Axes>"
      ]
     },
     "metadata": {
      "needs_background": "light"
     },
     "output_type": "display_data"
    },
    {
     "data": {
      "image/png": "[encoded data removed]",
      "text/plain": [
       "<Figure size 432x288 with 1 Axes>"
      ]
     },
     "metadata": {
      "needs_background": "light"
     },
     "output_type": "display_data"
    }
   ],
   "source": [
    "learning_rate=0.01\n",
    "epochs=10\n",
    "my_batch_size=12\n",
    "\n",
    "my_model = build_model(learning_rate)\n",
    "trained_weight, trained_bias, epochs, rmse = train_model(my_model, my_feature, \n",
    "                                                         my_label, epochs,\n",
    "                                                         my_batch_size)\n",
    "plot_the_model(trained_weight, trained_bias, my_feature, my_label)\n",
    "plot_the_loss_curve(epochs, rmse)"
   ]
  },
  {
   "cell_type": "markdown",
   "metadata": {},
   "source": [
    "Task 1: Examine the graphs\n",
    "Examine the top graph. The blue dots identify the actual data; the red line identifies the output of the trained model. Ideally, the red line should align nicely with the blue dots. Does it? Probably not.\n",
    "\n",
    "A certain amount of randomness plays into training a model, so you'll get somewhat different results every time you train. That said, unless you are an extremely lucky person, the red line probably doesn't align nicely with the blue dots.\n",
    "\n",
    "Examine the bottom graph, which shows the loss curve. Notice that the loss curve decreases but doesn't flatten out, which is a sign that the model hasn't trained sufficiently."
   ]
  },
  {
   "cell_type": "markdown",
   "metadata": {},
   "source": [
    "Task 2: Increase the number of epochs\n",
    "Training loss should steadily decrease, steeply at first, and then more slowly. Eventually, training loss should eventually stay steady (zeroslope or nearly zero slope), which indicates that training has converged.\n",
    "\n",
    "In Task 1, the training loss did not converge. One possible solution is to train for more epochs. Your task is to increase the number of epochs sufficiently to get the model to converge. However, it is inefficient to train past convergence, so don't just set the number of epochs to an arbitrarily high value.\n",
    "\n",
    "Examine the loss curve. Does the model converge?\n"
   ]
  },
  {
   "cell_type": "code",
   "execution_count": 8,
   "metadata": {},
   "outputs": [
    {
     "name": "stderr",
     "output_type": "stream",
     "text": [
      "C:\\Users\\snkty\\anaconda3\\envs\\PythonData\\lib\\site-packages\\tensorflow\\python\\keras\\optimizer_v2\\optimizer_v2.py:375: UserWarning: The `lr` argument is deprecated, use `learning_rate` instead.\n",
      "  \"The `lr` argument is deprecated, use `learning_rate` instead.\")\n"
     ]
    },
    {
     "name": "stdout",
     "output_type": "stream",
     "text": [
      "Epoch 1/25\n",
      "1/1 [==============================] - 0s 399ms/step - loss: 144.6718 - root_mean_squared_error: 12.0280\n",
      "Epoch 2/25\n",
      "1/1 [==============================] - 0s 14ms/step - loss: 138.4808 - root_mean_squared_error: 11.7678\n",
      "Epoch 3/25\n",
      "1/1 [==============================] - 0s 7ms/step - loss: 134.1206 - root_mean_squared_error: 11.5810\n",
      "Epoch 4/25\n",
      "1/1 [==============================] - 0s 8ms/step - loss: 130.5467 - root_mean_squared_error: 11.4257\n",
      "Epoch 5/25\n",
      "1/1 [==============================] - 0s 7ms/step - loss: 127.4301 - root_mean_squared_error: 11.2885\n",
      "Epoch 6/25\n",
      "1/1 [==============================] - 0s 7ms/step - loss: 124.6188 - root_mean_squared_error: 11.1633\n",
      "Epoch 7/25\n",
      "1/1 [==============================] - 0s 8ms/step - loss: 122.0282 - root_mean_squared_error: 11.0466\n",
      "Epoch 8/25\n",
      "1/1 [==============================] - 0s 5ms/step - loss: 119.6061 - root_mean_squared_error: 10.9365\n",
      "Epoch 9/25\n",
      "1/1 [==============================] - 0s 8ms/step - loss: 117.3174 - root_mean_squared_error: 10.8313\n",
      "Epoch 10/25\n",
      "1/1 [==============================] - 0s 7ms/step - loss: 115.1374 - root_mean_squared_error: 10.7302\n",
      "Epoch 11/25\n",
      "1/1 [==============================] - 0s 6ms/step - loss: 113.0479 - root_mean_squared_error: 10.6324\n",
      "Epoch 12/25\n",
      "1/1 [==============================] - 0s 6ms/step - loss: 111.0354 - root_mean_squared_error: 10.5373\n",
      "Epoch 13/25\n",
      "1/1 [==============================] - 0s 7ms/step - loss: 109.0892 - root_mean_squared_error: 10.4446\n",
      "Epoch 14/25\n",
      "1/1 [==============================] - 0s 7ms/step - loss: 107.2009 - root_mean_squared_error: 10.3538\n",
      "Epoch 15/25\n",
      "1/1 [==============================] - 0s 6ms/step - loss: 105.3637 - root_mean_squared_error: 10.2647\n",
      "Epoch 16/25\n",
      "1/1 [==============================] - 0s 10ms/step - loss: 103.5720 - root_mean_squared_error: 10.1770\n",
      "Epoch 17/25\n",
      "1/1 [==============================] - 0s 8ms/step - loss: 101.8214 - root_mean_squared_error: 10.0907\n",
      "Epoch 18/25\n",
      "1/1 [==============================] - 0s 9ms/step - loss: 100.1080 - root_mean_squared_error: 10.0054\n",
      "Epoch 19/25\n",
      "1/1 [==============================] - 0s 8ms/step - loss: 98.4286 - root_mean_squared_error: 9.9211\n",
      "Epoch 20/25\n",
      "1/1 [==============================] - 0s 7ms/step - loss: 96.7805 - root_mean_squared_error: 9.8377\n",
      "Epoch 21/25\n",
      "1/1 [==============================] - 0s 7ms/step - loss: 95.1614 - root_mean_squared_error: 9.7551\n",
      "Epoch 22/25\n",
      "1/1 [==============================] - 0s 7ms/step - loss: 93.5693 - root_mean_squared_error: 9.6731\n",
      "Epoch 23/25\n",
      "1/1 [==============================] - 0s 7ms/step - loss: 92.0025 - root_mean_squared_error: 9.5918\n",
      "Epoch 24/25\n",
      "1/1 [==============================] - 0s 6ms/step - loss: 90.4594 - root_mean_squared_error: 9.5110\n",
      "Epoch 25/25\n",
      "1/1 [==============================] - 0s 8ms/step - loss: 88.9388 - root_mean_squared_error: 9.4307\n"
     ]
    },
    {
     "name": "stderr",
     "output_type": "stream",
     "text": [
      "C:\\Users\\snkty\\anaconda3\\envs\\PythonData\\lib\\site-packages\\numpy\\core\\_asarray.py:136: VisibleDeprecationWarning: Creating an ndarray from ragged nested sequences (which is a list-or-tuple of lists-or-tuples-or ndarrays with different lengths or shapes) is deprecated. If you meant to do this, you must specify 'dtype=object' when creating the ndarray\n",
      "  return array(a, dtype, copy=False, order=order, subok=True)\n"
     ]
    },
    {
     "data": {
      "image/png": "[encoded data removed]",
      "text/plain": [
       "<Figure size 432x288 with 1 Axes>"
      ]
     },
     "metadata": {
      "needs_background": "light"
     },
     "output_type": "display_data"
    },
    {
     "data": {
      "image/png": "[encoded data removed]",
      "text/plain": [
       "<Figure size 432x288 with 1 Axes>"
      ]
     },
     "metadata": {
      "needs_background": "light"
     },
     "output_type": "display_data"
    }
   ],
   "source": [
    "learning_rate=0.01\n",
    "epochs= 25  # Replace ? with an integer.\n",
    "my_batch_size=12\n",
    "\n",
    "my_model = build_model(learning_rate)\n",
    "trained_weight, trained_bias, epochs, rmse = train_model(my_model, my_feature, \n",
    "                                                        my_label, epochs,\n",
    "                                                        my_batch_size)\n",
    "plot_the_model(trained_weight, trained_bias, my_feature, my_label)\n",
    "plot_the_loss_curve(epochs, rmse)"
   ]
  },
  {
   "cell_type": "code",
   "execution_count": null,
   "metadata": {},
   "outputs": [],
   "source": []
  }
 ],
 "metadata": {
  "kernelspec": {
   "display_name": "Python 3",
   "language": "python",
   "name": "python3"
  },
  "language_info": {
   "codemirror_mode": {
    "name": "ipython",
    "version": 3
   },
   "file_extension": ".py",
   "mimetype": "text/x-python",
   "name": "python",
   "nbconvert_exporter": "python",
   "pygments_lexer": "ipython3",
   "version": "3.7.9"
  }
 },
 "nbformat": 4,
 "nbformat_minor": 4
}
