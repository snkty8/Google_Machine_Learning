{
 "cells": [
  {
   "cell_type": "code",
   "execution_count": 2,
   "metadata": {},
   "outputs": [],
   "source": [
    "#@title Import relevant modules\n",
    "import pandas as pd\n",
    "import tensorflow as tf\n",
    "from matplotlib import pyplot as plt\n",
    "\n",
    "# The following lines adjust the granularity of reporting. \n",
    "pd.options.display.max_rows = 10\n",
    "pd.options.display.float_format = \"{:.1f}\".format"
   ]
  },
  {
   "cell_type": "code",
   "execution_count": 3,
   "metadata": {},
   "outputs": [
    {
     "data": {
      "text/html": [
       "<div>\n",
       "<style scoped>\n",
       "    .dataframe tbody tr th:only-of-type {\n",
       "        vertical-align: middle;\n",
       "    }\n",
       "\n",
       "    .dataframe tbody tr th {\n",
       "        vertical-align: top;\n",
       "    }\n",
       "\n",
       "    .dataframe thead th {\n",
       "        text-align: right;\n",
       "    }\n",
       "</style>\n",
       "<table border=\"1\" class=\"dataframe\">\n",
       "  <thead>\n",
       "    <tr style=\"text-align: right;\">\n",
       "      <th></th>\n",
       "      <th>longitude</th>\n",
       "      <th>latitude</th>\n",
       "      <th>housing_median_age</th>\n",
       "      <th>total_rooms</th>\n",
       "      <th>total_bedrooms</th>\n",
       "      <th>population</th>\n",
       "      <th>households</th>\n",
       "      <th>median_income</th>\n",
       "      <th>median_house_value</th>\n",
       "    </tr>\n",
       "  </thead>\n",
       "  <tbody>\n",
       "    <tr>\n",
       "      <th>0</th>\n",
       "      <td>-114.3</td>\n",
       "      <td>34.2</td>\n",
       "      <td>15.0</td>\n",
       "      <td>5612.0</td>\n",
       "      <td>1283.0</td>\n",
       "      <td>1015.0</td>\n",
       "      <td>472.0</td>\n",
       "      <td>1.5</td>\n",
       "      <td>66.9</td>\n",
       "    </tr>\n",
       "    <tr>\n",
       "      <th>1</th>\n",
       "      <td>-114.5</td>\n",
       "      <td>34.4</td>\n",
       "      <td>19.0</td>\n",
       "      <td>7650.0</td>\n",
       "      <td>1901.0</td>\n",
       "      <td>1129.0</td>\n",
       "      <td>463.0</td>\n",
       "      <td>1.8</td>\n",
       "      <td>80.1</td>\n",
       "    </tr>\n",
       "    <tr>\n",
       "      <th>2</th>\n",
       "      <td>-114.6</td>\n",
       "      <td>33.7</td>\n",
       "      <td>17.0</td>\n",
       "      <td>720.0</td>\n",
       "      <td>174.0</td>\n",
       "      <td>333.0</td>\n",
       "      <td>117.0</td>\n",
       "      <td>1.7</td>\n",
       "      <td>85.7</td>\n",
       "    </tr>\n",
       "    <tr>\n",
       "      <th>3</th>\n",
       "      <td>-114.6</td>\n",
       "      <td>33.6</td>\n",
       "      <td>14.0</td>\n",
       "      <td>1501.0</td>\n",
       "      <td>337.0</td>\n",
       "      <td>515.0</td>\n",
       "      <td>226.0</td>\n",
       "      <td>3.2</td>\n",
       "      <td>73.4</td>\n",
       "    </tr>\n",
       "    <tr>\n",
       "      <th>4</th>\n",
       "      <td>-114.6</td>\n",
       "      <td>33.6</td>\n",
       "      <td>20.0</td>\n",
       "      <td>1454.0</td>\n",
       "      <td>326.0</td>\n",
       "      <td>624.0</td>\n",
       "      <td>262.0</td>\n",
       "      <td>1.9</td>\n",
       "      <td>65.5</td>\n",
       "    </tr>\n",
       "  </tbody>\n",
       "</table>\n",
       "</div>"
      ],
      "text/plain": [
       "   longitude  latitude  housing_median_age  total_rooms  total_bedrooms  \\\n",
       "0     -114.3      34.2                15.0       5612.0          1283.0   \n",
       "1     -114.5      34.4                19.0       7650.0          1901.0   \n",
       "2     -114.6      33.7                17.0        720.0           174.0   \n",
       "3     -114.6      33.6                14.0       1501.0           337.0   \n",
       "4     -114.6      33.6                20.0       1454.0           326.0   \n",
       "\n",
       "   population  households  median_income  median_house_value  \n",
       "0      1015.0       472.0            1.5                66.9  \n",
       "1      1129.0       463.0            1.8                80.1  \n",
       "2       333.0       117.0            1.7                85.7  \n",
       "3       515.0       226.0            3.2                73.4  \n",
       "4       624.0       262.0            1.9                65.5  "
      ]
     },
     "execution_count": 3,
     "metadata": {},
     "output_type": "execute_result"
    }
   ],
   "source": [
    "# Import the dataset.\n",
    "training_df = pd.read_csv(filepath_or_buffer=\"https://download.mlcc.google.com/mledu-datasets/california_housing_train.csv\")\n",
    "\n",
    "# Scale the label.\n",
    "training_df[\"median_house_value\"] /= 1000.0\n",
    "\n",
    "# Print the first rows of the pandas DataFrame.\n",
    "training_df.head()"
   ]
  },
  {
   "cell_type": "code",
   "execution_count": 4,
   "metadata": {},
   "outputs": [
    {
     "data": {
      "text/html": [
       "<div>\n",
       "<style scoped>\n",
       "    .dataframe tbody tr th:only-of-type {\n",
       "        vertical-align: middle;\n",
       "    }\n",
       "\n",
       "    .dataframe tbody tr th {\n",
       "        vertical-align: top;\n",
       "    }\n",
       "\n",
       "    .dataframe thead th {\n",
       "        text-align: right;\n",
       "    }\n",
       "</style>\n",
       "<table border=\"1\" class=\"dataframe\">\n",
       "  <thead>\n",
       "    <tr style=\"text-align: right;\">\n",
       "      <th></th>\n",
       "      <th>longitude</th>\n",
       "      <th>latitude</th>\n",
       "      <th>housing_median_age</th>\n",
       "      <th>total_rooms</th>\n",
       "      <th>total_bedrooms</th>\n",
       "      <th>population</th>\n",
       "      <th>households</th>\n",
       "      <th>median_income</th>\n",
       "      <th>median_house_value</th>\n",
       "    </tr>\n",
       "  </thead>\n",
       "  <tbody>\n",
       "    <tr>\n",
       "      <th>count</th>\n",
       "      <td>17000.0</td>\n",
       "      <td>17000.0</td>\n",
       "      <td>17000.0</td>\n",
       "      <td>17000.0</td>\n",
       "      <td>17000.0</td>\n",
       "      <td>17000.0</td>\n",
       "      <td>17000.0</td>\n",
       "      <td>17000.0</td>\n",
       "      <td>17000.0</td>\n",
       "    </tr>\n",
       "    <tr>\n",
       "      <th>mean</th>\n",
       "      <td>-119.6</td>\n",
       "      <td>35.6</td>\n",
       "      <td>28.6</td>\n",
       "      <td>2643.7</td>\n",
       "      <td>539.4</td>\n",
       "      <td>1429.6</td>\n",
       "      <td>501.2</td>\n",
       "      <td>3.9</td>\n",
       "      <td>207.3</td>\n",
       "    </tr>\n",
       "    <tr>\n",
       "      <th>std</th>\n",
       "      <td>2.0</td>\n",
       "      <td>2.1</td>\n",
       "      <td>12.6</td>\n",
       "      <td>2179.9</td>\n",
       "      <td>421.5</td>\n",
       "      <td>1147.9</td>\n",
       "      <td>384.5</td>\n",
       "      <td>1.9</td>\n",
       "      <td>116.0</td>\n",
       "    </tr>\n",
       "    <tr>\n",
       "      <th>min</th>\n",
       "      <td>-124.3</td>\n",
       "      <td>32.5</td>\n",
       "      <td>1.0</td>\n",
       "      <td>2.0</td>\n",
       "      <td>1.0</td>\n",
       "      <td>3.0</td>\n",
       "      <td>1.0</td>\n",
       "      <td>0.5</td>\n",
       "      <td>15.0</td>\n",
       "    </tr>\n",
       "    <tr>\n",
       "      <th>25%</th>\n",
       "      <td>-121.8</td>\n",
       "      <td>33.9</td>\n",
       "      <td>18.0</td>\n",
       "      <td>1462.0</td>\n",
       "      <td>297.0</td>\n",
       "      <td>790.0</td>\n",
       "      <td>282.0</td>\n",
       "      <td>2.6</td>\n",
       "      <td>119.4</td>\n",
       "    </tr>\n",
       "    <tr>\n",
       "      <th>50%</th>\n",
       "      <td>-118.5</td>\n",
       "      <td>34.2</td>\n",
       "      <td>29.0</td>\n",
       "      <td>2127.0</td>\n",
       "      <td>434.0</td>\n",
       "      <td>1167.0</td>\n",
       "      <td>409.0</td>\n",
       "      <td>3.5</td>\n",
       "      <td>180.4</td>\n",
       "    </tr>\n",
       "    <tr>\n",
       "      <th>75%</th>\n",
       "      <td>-118.0</td>\n",
       "      <td>37.7</td>\n",
       "      <td>37.0</td>\n",
       "      <td>3151.2</td>\n",
       "      <td>648.2</td>\n",
       "      <td>1721.0</td>\n",
       "      <td>605.2</td>\n",
       "      <td>4.8</td>\n",
       "      <td>265.0</td>\n",
       "    </tr>\n",
       "    <tr>\n",
       "      <th>max</th>\n",
       "      <td>-114.3</td>\n",
       "      <td>42.0</td>\n",
       "      <td>52.0</td>\n",
       "      <td>37937.0</td>\n",
       "      <td>6445.0</td>\n",
       "      <td>35682.0</td>\n",
       "      <td>6082.0</td>\n",
       "      <td>15.0</td>\n",
       "      <td>500.0</td>\n",
       "    </tr>\n",
       "  </tbody>\n",
       "</table>\n",
       "</div>"
      ],
      "text/plain": [
       "       longitude  latitude  housing_median_age  total_rooms  total_bedrooms  \\\n",
       "count    17000.0   17000.0             17000.0      17000.0         17000.0   \n",
       "mean      -119.6      35.6                28.6       2643.7           539.4   \n",
       "std          2.0       2.1                12.6       2179.9           421.5   \n",
       "min       -124.3      32.5                 1.0          2.0             1.0   \n",
       "25%       -121.8      33.9                18.0       1462.0           297.0   \n",
       "50%       -118.5      34.2                29.0       2127.0           434.0   \n",
       "75%       -118.0      37.7                37.0       3151.2           648.2   \n",
       "max       -114.3      42.0                52.0      37937.0          6445.0   \n",
       "\n",
       "       population  households  median_income  median_house_value  \n",
       "count     17000.0     17000.0        17000.0             17000.0  \n",
       "mean       1429.6       501.2            3.9               207.3  \n",
       "std        1147.9       384.5            1.9               116.0  \n",
       "min           3.0         1.0            0.5                15.0  \n",
       "25%         790.0       282.0            2.6               119.4  \n",
       "50%        1167.0       409.0            3.5               180.4  \n",
       "75%        1721.0       605.2            4.8               265.0  \n",
       "max       35682.0      6082.0           15.0               500.0  "
      ]
     },
     "execution_count": 4,
     "metadata": {},
     "output_type": "execute_result"
    }
   ],
   "source": [
    "# Get statistics on the dataset.\n",
    "training_df.describe()"
   ]
  },
  {
   "cell_type": "markdown",
   "metadata": {},
   "source": [
    "Task 1: Identify anomalies in the dataset\n",
    "Do you see any anomalies (strange values) in the data?"
   ]
  },
  {
   "cell_type": "code",
   "execution_count": 5,
   "metadata": {},
   "outputs": [],
   "source": [
    "#@title Double-click to view a possible answer.\n",
    "\n",
    "# The maximum value (max) of several columns seems very\n",
    "# high compared to the other quantiles. For example,\n",
    "# example the total_rooms column. Given the quantile\n",
    "# values (25%, 50%, and 75%), you might expect the \n",
    "# max value of total_rooms to be approximately \n",
    "# 5,000 or possibly 10,000. However, the max value \n",
    "# is actually 37,937.\n",
    "\n",
    "# When you see anomalies in a column, become more careful\n",
    "# about using that column as a feature. That said,\n",
    "# anomalies in potential features sometimes mirror \n",
    "# anomalies in the label, which could make the column \n",
    "# be (or seem to be) a powerful feature.\n",
    "# Also, as you will see later in the course, you \n",
    "# might be able to represent (pre-process) raw data \n",
    "# in order to make columns into useful features."
   ]
  },
  {
   "cell_type": "code",
   "execution_count": 6,
   "metadata": {},
   "outputs": [
    {
     "name": "stdout",
     "output_type": "stream",
     "text": [
      "Defined the create_model and traing_model functions.\n"
     ]
    }
   ],
   "source": [
    "#@title Define the functions that build and train a model\n",
    "def build_model(my_learning_rate):\n",
    "  \"\"\"Create and compile a simple linear regression model.\"\"\"\n",
    "  # Most simple tf.keras models are sequential.\n",
    "  model = tf.keras.models.Sequential()\n",
    "\n",
    "  # Describe the topography of the model.\n",
    "  # The topography of a simple linear regression model\n",
    "  # is a single node in a single layer.\n",
    "  model.add(tf.keras.layers.Dense(units=1, \n",
    "                                  input_shape=(1,)))\n",
    "\n",
    "  # Compile the model topography into code that TensorFlow can efficiently\n",
    "  # execute. Configure training to minimize the model's mean squared error. \n",
    "  model.compile(optimizer=tf.keras.optimizers.RMSprop(lr=my_learning_rate),\n",
    "                loss=\"mean_squared_error\",\n",
    "                metrics=[tf.keras.metrics.RootMeanSquaredError()])\n",
    "\n",
    "  return model        \n",
    "\n",
    "\n",
    "def train_model(model, df, feature, label, epochs, batch_size):\n",
    "  \"\"\"Train the model by feeding it data.\"\"\"\n",
    "\n",
    "  # Feed the model the feature and the label.\n",
    "  # The model will train for the specified number of epochs. \n",
    "  history = model.fit(x=df[feature],\n",
    "                      y=df[label],\n",
    "                      batch_size=batch_size,\n",
    "                      epochs=epochs)\n",
    "\n",
    "  # Gather the trained model's weight and bias.\n",
    "  trained_weight = model.get_weights()[0]\n",
    "  trained_bias = model.get_weights()[1]\n",
    "\n",
    "  # The list of epochs is stored separately from the rest of history.\n",
    "  epochs = history.epoch\n",
    "  \n",
    "  # Isolate the error for each epoch.\n",
    "  hist = pd.DataFrame(history.history)\n",
    "\n",
    "  # To track the progression of training, we're going to take a snapshot\n",
    "  # of the model's root mean squared error at each epoch. \n",
    "  rmse = hist[\"root_mean_squared_error\"]\n",
    "\n",
    "  return trained_weight, trained_bias, epochs, rmse\n",
    "\n",
    "print(\"Defined the create_model and traing_model functions.\")"
   ]
  },
  {
   "cell_type": "code",
   "execution_count": 7,
   "metadata": {},
   "outputs": [
    {
     "name": "stdout",
     "output_type": "stream",
     "text": [
      "Defined the plot_the_model and plot_the_loss_curve functions.\n"
     ]
    }
   ],
   "source": [
    "#@title Define the plotting functions\n",
    "def plot_the_model(trained_weight, trained_bias, feature, label):\n",
    "  \"\"\"Plot the trained model against 200 random training examples.\"\"\"\n",
    "\n",
    "  # Label the axes.\n",
    "  plt.xlabel(feature)\n",
    "  plt.ylabel(label)\n",
    "\n",
    "  # Create a scatter plot from 200 random points of the dataset.\n",
    "  random_examples = training_df.sample(n=200)\n",
    "  plt.scatter(random_examples[feature], random_examples[label])\n",
    "\n",
    "  # Create a red line representing the model. The red line starts\n",
    "  # at coordinates (x0, y0) and ends at coordinates (x1, y1).\n",
    "  x0 = 0\n",
    "  y0 = trained_bias\n",
    "  x1 = 10000\n",
    "  y1 = trained_bias + (trained_weight * x1)\n",
    "  plt.plot([x0, x1], [y0, y1], c='r')\n",
    "\n",
    "  # Render the scatter plot and the red line.\n",
    "  plt.show()\n",
    "\n",
    "\n",
    "def plot_the_loss_curve(epochs, rmse):\n",
    "  \"\"\"Plot a curve of loss vs. epoch.\"\"\"\n",
    "\n",
    "  plt.figure()\n",
    "  plt.xlabel(\"Epoch\")\n",
    "  plt.ylabel(\"Root Mean Squared Error\")\n",
    "\n",
    "  plt.plot(epochs, rmse, label=\"Loss\")\n",
    "  plt.legend()\n",
    "  plt.ylim([rmse.min()*0.97, rmse.max()])\n",
    "  plt.show()  \n",
    "\n",
    "print(\"Defined the plot_the_model and plot_the_loss_curve functions.\")"
   ]
  },
  {
   "cell_type": "code",
   "execution_count": 8,
   "metadata": {},
   "outputs": [
    {
     "name": "stderr",
     "output_type": "stream",
     "text": [
      "C:\\Users\\snkty\\anaconda3\\envs\\PythonData\\lib\\site-packages\\tensorflow\\python\\keras\\optimizer_v2\\optimizer_v2.py:375: UserWarning: The `lr` argument is deprecated, use `learning_rate` instead.\n",
      "  \"The `lr` argument is deprecated, use `learning_rate` instead.\")\n"
     ]
    },
    {
     "name": "stdout",
     "output_type": "stream",
     "text": [
      "Epoch 1/30\n",
      "567/567 [==============================] - 1s 2ms/step - loss: 1575403.0000 - root_mean_squared_error: 1255.1506\n",
      "Epoch 2/30\n",
      "567/567 [==============================] - 1s 2ms/step - loss: 27782.9180 - root_mean_squared_error: 166.6821\n",
      "Epoch 3/30\n",
      "567/567 [==============================] - 1s 2ms/step - loss: 27104.5938 - root_mean_squared_error: 164.6347\n",
      "Epoch 4/30\n",
      "567/567 [==============================] - 1s 2ms/step - loss: 26193.4863 - root_mean_squared_error: 161.8440\n",
      "Epoch 5/30\n",
      "567/567 [==============================] - 1s 2ms/step - loss: 25621.8418 - root_mean_squared_error: 160.0682\n",
      "Epoch 6/30\n",
      "567/567 [==============================] - 1s 2ms/step - loss: 24940.8203 - root_mean_squared_error: 157.9266\n",
      "Epoch 7/30\n",
      "567/567 [==============================] - 1s 2ms/step - loss: 24189.9375 - root_mean_squared_error: 155.5311\n",
      "Epoch 8/30\n",
      "567/567 [==============================] - 1s 2ms/step - loss: 23670.0586 - root_mean_squared_error: 153.8508\n",
      "Epoch 9/30\n",
      "567/567 [==============================] - 1s 2ms/step - loss: 22998.2695 - root_mean_squared_error: 151.6518\n",
      "Epoch 10/30\n",
      "567/567 [==============================] - 1s 2ms/step - loss: 22610.6328 - root_mean_squared_error: 150.3683\n",
      "Epoch 11/30\n",
      "567/567 [==============================] - 1s 2ms/step - loss: 21656.7969 - root_mean_squared_error: 147.1625\n",
      "Epoch 12/30\n",
      "567/567 [==============================] - 1s 2ms/step - loss: 21246.8574 - root_mean_squared_error: 145.7630\n",
      "Epoch 13/30\n",
      "567/567 [==============================] - 1s 2ms/step - loss: 20933.3633 - root_mean_squared_error: 144.6837\n",
      "Epoch 14/30\n",
      "567/567 [==============================] - 1s 2ms/step - loss: 20325.0117 - root_mean_squared_error: 142.5658\n",
      "Epoch 15/30\n",
      "567/567 [==============================] - 1s 2ms/step - loss: 19865.3379 - root_mean_squared_error: 140.9444\n",
      "Epoch 16/30\n",
      "567/567 [==============================] - 1s 2ms/step - loss: 19408.4609 - root_mean_squared_error: 139.3143\n",
      "Epoch 17/30\n",
      "567/567 [==============================] - 1s 2ms/step - loss: 18994.3105 - root_mean_squared_error: 137.8199\n",
      "Epoch 18/30\n",
      "567/567 [==============================] - 1s 1ms/step - loss: 18686.8398 - root_mean_squared_error: 136.6998\n",
      "Epoch 19/30\n",
      "567/567 [==============================] - 1s 1ms/step - loss: 18193.2988 - root_mean_squared_error: 134.8825\n",
      "Epoch 20/30\n",
      "567/567 [==============================] - 1s 1ms/step - loss: 17770.4590 - root_mean_squared_error: 133.3059\n",
      "Epoch 21/30\n",
      "567/567 [==============================] - 1s 2ms/step - loss: 17482.3047 - root_mean_squared_error: 132.2207\n",
      "Epoch 22/30\n",
      "567/567 [==============================] - 1s 1ms/step - loss: 17278.2246 - root_mean_squared_error: 131.4467\n",
      "Epoch 23/30\n",
      "567/567 [==============================] - 1s 2ms/step - loss: 16860.0332 - root_mean_squared_error: 129.8462\n",
      "Epoch 24/30\n",
      "567/567 [==============================] - 1s 1ms/step - loss: 16566.1250 - root_mean_squared_error: 128.7095\n",
      "Epoch 25/30\n",
      "567/567 [==============================] - 1s 2ms/step - loss: 16332.1416 - root_mean_squared_error: 127.7973\n",
      "Epoch 26/30\n",
      "567/567 [==============================] - 1s 1ms/step - loss: 16094.3379 - root_mean_squared_error: 126.8635\n",
      "Epoch 27/30\n",
      "567/567 [==============================] - 1s 2ms/step - loss: 15904.1523 - root_mean_squared_error: 126.1117\n",
      "Epoch 28/30\n",
      "567/567 [==============================] - 1s 1ms/step - loss: 15525.1387 - root_mean_squared_error: 124.5999\n",
      "Epoch 29/30\n",
      "567/567 [==============================] - 1s 2ms/step - loss: 15462.2969 - root_mean_squared_error: 124.3475\n",
      "Epoch 30/30\n",
      "567/567 [==============================] - 1s 1ms/step - loss: 15168.2246 - root_mean_squared_error: 123.1593\n",
      "\n",
      "The learned weight for your model is 0.0295\n",
      "The learned bias for your model is 132.5228\n",
      "\n"
     ]
    },
    {
     "name": "stderr",
     "output_type": "stream",
     "text": [
      "C:\\Users\\snkty\\anaconda3\\envs\\PythonData\\lib\\site-packages\\numpy\\core\\_asarray.py:136: VisibleDeprecationWarning: Creating an ndarray from ragged nested sequences (which is a list-or-tuple of lists-or-tuples-or ndarrays with different lengths or shapes) is deprecated. If you meant to do this, you must specify 'dtype=object' when creating the ndarray\n",
      "  return array(a, dtype, copy=False, order=order, subok=True)\n"
     ]
    },
    {
     "data": {
      "image/png": "[encoded data removed]",
      "text/plain": [
       "<Figure size 432x288 with 1 Axes>"
      ]
     },
     "metadata": {
      "needs_background": "light"
     },
     "output_type": "display_data"
    },
    {
     "data": {
      "image/png": "[encoded data removed]",
      "text/plain": [
       "<Figure size 432x288 with 1 Axes>"
      ]
     },
     "metadata": {
      "needs_background": "light"
     },
     "output_type": "display_data"
    }
   ],
   "source": [
    "# The following variables are the hyperparameters.\n",
    "learning_rate = 0.01\n",
    "epochs = 30\n",
    "batch_size = 30\n",
    "\n",
    "# Specify the feature and the label.\n",
    "my_feature = \"total_rooms\"  # the total number of rooms on a specific city block.\n",
    "my_label=\"median_house_value\" # the median value of a house on a specific city block.\n",
    "# That is, you're going to create a model that predicts house value based \n",
    "# solely on total_rooms.  \n",
    "\n",
    "# Discard any pre-existing version of the model.\n",
    "my_model = None\n",
    "\n",
    "# Invoke the functions.\n",
    "my_model = build_model(learning_rate)\n",
    "weight, bias, epochs, rmse = train_model(my_model, training_df, \n",
    "                                         my_feature, my_label,\n",
    "                                         epochs, batch_size)\n",
    "\n",
    "print(\"\\nThe learned weight for your model is %.4f\" % weight)\n",
    "print(\"The learned bias for your model is %.4f\\n\" % bias )\n",
    "\n",
    "plot_the_model(weight, bias, my_feature, my_label)\n",
    "plot_the_loss_curve(epochs, rmse)"
   ]
  },
  {
   "cell_type": "markdown",
   "metadata": {},
   "source": [
    "Use the model to make predictions\n",
    "You can use the trained model to make predictions. In practice, you should make predictions on examples that are not used in training. However, for this exercise, you'll just work with a subset of the same training dataset. A later Colab exercise will explore ways to make predictions on examples not used in training."
   ]
  },
  {
   "cell_type": "code",
   "execution_count": 9,
   "metadata": {},
   "outputs": [],
   "source": [
    "def predict_house_values(n, feature, label):\n",
    "  \"\"\"Predict house values based on a feature.\"\"\"\n",
    "\n",
    "  batch = training_df[feature][10000:10000 + n]\n",
    "  predicted_values = my_model.predict_on_batch(x=batch)\n",
    "\n",
    "  print(\"feature   label          predicted\")\n",
    "  print(\"  value   value          value\")\n",
    "  print(\"          in thousand$   in thousand$\")\n",
    "  print(\"--------------------------------------\")\n",
    "  for i in range(n):\n",
    "    print (\"%5.0f %6.0f %15.0f\" % (training_df[feature][10000 + i],\n",
    "                                   training_df[label][10000 + i],\n",
    "                                   predicted_values[i][0] ))"
   ]
  },
  {
   "cell_type": "code",
   "execution_count": 10,
   "metadata": {},
   "outputs": [
    {
     "name": "stdout",
     "output_type": "stream",
     "text": [
      "feature   label          predicted\n",
      "  value   value          value\n",
      "          in thousand$   in thousand$\n",
      "--------------------------------------\n",
      " 1960     53             190\n",
      " 3400     92             233\n",
      " 3677     69             241\n",
      " 2202     62             197\n",
      " 2403     80             203\n",
      " 5652    295             299\n",
      " 3318    500             230\n",
      " 2552    342             208\n",
      " 1364    118             173\n",
      " 3468    128             235\n"
     ]
    }
   ],
   "source": [
    "# invoke the house prediction function on 10 examples:\n",
    "predict_house_values(10, my_feature, my_label)"
   ]
  },
  {
   "cell_type": "markdown",
   "metadata": {},
   "source": [
    "Task 2: Judge the predictive power of the model\n",
    "Look at the preceding table. How close is the predicted value to the label value? In other words, does your model accurately predict house values?"
   ]
  },
  {
   "cell_type": "code",
   "execution_count": 11,
   "metadata": {},
   "outputs": [],
   "source": [
    "#@title Double-click to view the answer.\n",
    "\n",
    "# Most of the predicted values differ significantly\n",
    "# from the label value, so the trained model probably \n",
    "# doesn't have much predictive power. However, the\n",
    "# first 10 examples might not be representative of \n",
    "# the rest of the examples.  "
   ]
  },
  {
   "cell_type": "markdown",
   "metadata": {},
   "source": [
    "Task 3: Try a different feature\n",
    "The total_rooms feature had only a little predictive power. Would a different feature have greater predictive power? Try using population as the feature instead of total_rooms.\n",
    "\n",
    "Note: When you change features, you might also need to change the hyperparameters."
   ]
  },
  {
   "cell_type": "code",
   "execution_count": 12,
   "metadata": {},
   "outputs": [
    {
     "name": "stderr",
     "output_type": "stream",
     "text": [
      "C:\\Users\\snkty\\anaconda3\\envs\\PythonData\\lib\\site-packages\\tensorflow\\python\\keras\\optimizer_v2\\optimizer_v2.py:375: UserWarning: The `lr` argument is deprecated, use `learning_rate` instead.\n",
      "  \"The `lr` argument is deprecated, use `learning_rate` instead.\")\n"
     ]
    },
    {
     "name": "stdout",
     "output_type": "stream",
     "text": [
      "Epoch 1/18\n",
      "5667/5667 [==============================] - 10s 2ms/step - loss: 32296.5430 - root_mean_squared_error: 179.7124\n",
      "Epoch 2/18\n",
      "5667/5667 [==============================] - 9s 2ms/step - loss: 19875.7090 - root_mean_squared_error: 140.9812\n",
      "Epoch 3/18\n",
      "5667/5667 [==============================] - 9s 2ms/step - loss: 18670.4453 - root_mean_squared_error: 136.6398\n",
      "Epoch 4/18\n",
      "5667/5667 [==============================] - 9s 2ms/step - loss: 18001.7012 - root_mean_squared_error: 134.1704\n",
      "Epoch 5/18\n",
      "5667/5667 [==============================] - 9s 2ms/step - loss: 17884.2891 - root_mean_squared_error: 133.7321\n",
      "Epoch 6/18\n",
      "5667/5667 [==============================] - 9s 2ms/step - loss: 17980.3652 - root_mean_squared_error: 134.0909\n",
      "Epoch 7/18\n",
      "5667/5667 [==============================] - 9s 2ms/step - loss: 18573.8750 - root_mean_squared_error: 136.2860\n",
      "Epoch 8/18\n",
      "5667/5667 [==============================] - 9s 2ms/step - loss: 18048.8301 - root_mean_squared_error: 134.3459\n",
      "Epoch 9/18\n",
      "5667/5667 [==============================] - 9s 2ms/step - loss: 17863.3594 - root_mean_squared_error: 133.6539\n",
      "Epoch 10/18\n",
      "5667/5667 [==============================] - 9s 2ms/step - loss: 17940.3438 - root_mean_squared_error: 133.9416\n",
      "Epoch 11/18\n",
      "5667/5667 [==============================] - 9s 2ms/step - loss: 17944.9785 - root_mean_squared_error: 133.9589\n",
      "Epoch 12/18\n",
      "5667/5667 [==============================] - 9s 2ms/step - loss: 18257.4082 - root_mean_squared_error: 135.1200\n",
      "Epoch 13/18\n",
      "5667/5667 [==============================] - 9s 2ms/step - loss: 17889.5156 - root_mean_squared_error: 133.7517\n",
      "Epoch 14/18\n",
      "5667/5667 [==============================] - 9s 2ms/step - loss: 18260.9102 - root_mean_squared_error: 135.1329\n",
      "Epoch 15/18\n",
      "5667/5667 [==============================] - 9s 2ms/step - loss: 18639.4551 - root_mean_squared_error: 136.5264\n",
      "Epoch 16/18\n",
      "5667/5667 [==============================] - 9s 2ms/step - loss: 17997.1348 - root_mean_squared_error: 134.1534\n",
      "Epoch 17/18\n",
      "5667/5667 [==============================] - 9s 2ms/step - loss: 17967.7812 - root_mean_squared_error: 134.0439\n",
      "Epoch 18/18\n",
      "5667/5667 [==============================] - 9s 2ms/step - loss: 18278.5527 - root_mean_squared_error: 135.1982\n"
     ]
    },
    {
     "name": "stderr",
     "output_type": "stream",
     "text": [
      "C:\\Users\\snkty\\anaconda3\\envs\\PythonData\\lib\\site-packages\\numpy\\core\\_asarray.py:136: VisibleDeprecationWarning: Creating an ndarray from ragged nested sequences (which is a list-or-tuple of lists-or-tuples-or ndarrays with different lengths or shapes) is deprecated. If you meant to do this, you must specify 'dtype=object' when creating the ndarray\n",
      "  return array(a, dtype, copy=False, order=order, subok=True)\n"
     ]
    },
    {
     "data": {
      "image/png": "[encoded data removed]",
      "text/plain": [
       "<Figure size 432x288 with 1 Axes>"
      ]
     },
     "metadata": {
      "needs_background": "light"
     },
     "output_type": "display_data"
    },
    {
     "data": {
      "image/png": "[encoded data removed]",
      "text/plain": [
       "<Figure size 432x288 with 1 Axes>"
      ]
     },
     "metadata": {
      "needs_background": "light"
     },
     "output_type": "display_data"
    },
    {
     "name": "stdout",
     "output_type": "stream",
     "text": [
      "feature   label          predicted\n",
      "  value   value          value\n",
      "          in thousand$   in thousand$\n",
      "--------------------------------------\n",
      " 1286     53             252\n",
      " 1867     92             270\n",
      " 2191     69             280\n",
      " 1052     62             244\n",
      " 1647     80             263\n",
      " 2312    295             284\n",
      " 1604    500             262\n",
      " 1066    342             245\n",
      "  338    118             222\n",
      " 1604    128             262\n"
     ]
    }
   ],
   "source": [
    "#@title Double-click to view a possible solution.\n",
    "\n",
    "my_feature = \"population\" # Pick a feature other than \"total_rooms\"\n",
    "\n",
    "# Possibly, experiment with the hyperparameters.\n",
    "learning_rate = 0.05\n",
    "epochs = 18\n",
    "batch_size = 3\n",
    "\n",
    "# Don't change anything below.\n",
    "my_model = build_model(learning_rate)\n",
    "weight, bias, epochs, rmse = train_model(my_model, training_df, \n",
    "                                         my_feature, my_label,\n",
    "                                         epochs, batch_size)\n",
    "\n",
    "plot_the_model(weight, bias, my_feature, my_label)\n",
    "plot_the_loss_curve(epochs, rmse)\n",
    "\n",
    "predict_house_values(10, my_feature, my_label)"
   ]
  },
  {
   "cell_type": "code",
   "execution_count": 13,
   "metadata": {},
   "outputs": [],
   "source": [
    "#@title Double-click to view the answer.\n",
    "\n",
    "# Training is not entirely deterministic, but population \n",
    "# typically converges at a slightly higher RMSE than \n",
    "# total_rooms.  So, population appears to be about \n",
    "# the same or slightly worse at making predictions \n",
    "# than total_rooms."
   ]
  },
  {
   "cell_type": "markdown",
   "metadata": {},
   "source": [
    "Task 4: Define a synthetic feature\n",
    "You have determined that total_rooms and population were not useful features. That is, neither the total number of rooms in a neighborhood nor the neighborhood's population successfully predicted the median house price of that neighborhood. Perhaps though, the ratio of total_rooms to population might have some predictive power. That is, perhaps block density relates to median house value.\n",
    "\n",
    "To explore this hypothesis, do the following:\n",
    "\n",
    "1. Create a synthetic feature that's a ratio of total_rooms to population. (If you are new to pandas DataFrames, please study the Pandas DataFrame Ultraquick Tutorial.)\n",
    "2. Tune the three hyperparameters.\n",
    "3. Determine whether this synthetic feature produces a lower loss value than any of the single features you tried earlier in this exercise."
   ]
  },
  {
   "cell_type": "code",
   "execution_count": 15,
   "metadata": {},
   "outputs": [
    {
     "name": "stderr",
     "output_type": "stream",
     "text": [
      "C:\\Users\\snkty\\anaconda3\\envs\\PythonData\\lib\\site-packages\\tensorflow\\python\\keras\\optimizer_v2\\optimizer_v2.py:375: UserWarning: The `lr` argument is deprecated, use `learning_rate` instead.\n",
      "  \"The `lr` argument is deprecated, use `learning_rate` instead.\")\n"
     ]
    },
    {
     "name": "stdout",
     "output_type": "stream",
     "text": [
      "Epoch 1/24\n",
      "567/567 [==============================] - 1s 2ms/step - loss: 38714.8242 - root_mean_squared_error: 196.7608\n",
      "Epoch 2/24\n",
      "567/567 [==============================] - 1s 2ms/step - loss: 19193.1680 - root_mean_squared_error: 138.5394\n",
      "Epoch 3/24\n",
      "567/567 [==============================] - 1s 2ms/step - loss: 15111.4014 - root_mean_squared_error: 122.9284\n",
      "Epoch 4/24\n",
      "567/567 [==============================] - 1s 2ms/step - loss: 14762.7812 - root_mean_squared_error: 121.5022\n",
      "Epoch 5/24\n",
      "567/567 [==============================] - 1s 2ms/step - loss: 14578.4590 - root_mean_squared_error: 120.7413\n",
      "Epoch 6/24\n",
      "567/567 [==============================] - 1s 2ms/step - loss: 14464.1689 - root_mean_squared_error: 120.2671\n",
      "Epoch 7/24\n",
      "567/567 [==============================] - 1s 2ms/step - loss: 14285.2920 - root_mean_squared_error: 119.5211\n",
      "Epoch 8/24\n",
      "567/567 [==============================] - 1s 2ms/step - loss: 14114.5703 - root_mean_squared_error: 118.8048\n",
      "Epoch 9/24\n",
      "567/567 [==============================] - 1s 2ms/step - loss: 14035.1152 - root_mean_squared_error: 118.4699\n",
      "Epoch 10/24\n",
      "567/567 [==============================] - 1s 2ms/step - loss: 13932.5693 - root_mean_squared_error: 118.0363\n",
      "Epoch 11/24\n",
      "567/567 [==============================] - 1s 2ms/step - loss: 13891.9561 - root_mean_squared_error: 117.8641\n",
      "Epoch 12/24\n",
      "567/567 [==============================] - 1s 2ms/step - loss: 13878.9346 - root_mean_squared_error: 117.8089\n",
      "Epoch 13/24\n",
      "567/567 [==============================] - 1s 2ms/step - loss: 13787.4492 - root_mean_squared_error: 117.4200\n",
      "Epoch 14/24\n",
      "567/567 [==============================] - 1s 2ms/step - loss: 13722.6846 - root_mean_squared_error: 117.1439\n",
      "Epoch 15/24\n",
      "567/567 [==============================] - 1s 2ms/step - loss: 13678.4902 - root_mean_squared_error: 116.9551\n",
      "Epoch 16/24\n",
      "567/567 [==============================] - 1s 2ms/step - loss: 13635.6963 - root_mean_squared_error: 116.7720\n",
      "Epoch 17/24\n",
      "567/567 [==============================] - 1s 2ms/step - loss: 13608.2275 - root_mean_squared_error: 116.6543\n",
      "Epoch 18/24\n",
      "567/567 [==============================] - 1s 2ms/step - loss: 13531.8740 - root_mean_squared_error: 116.3266\n",
      "Epoch 19/24\n",
      "567/567 [==============================] - 1s 2ms/step - loss: 13529.4727 - root_mean_squared_error: 116.3163\n",
      "Epoch 20/24\n",
      "567/567 [==============================] - 1s 2ms/step - loss: 13494.8643 - root_mean_squared_error: 116.1674\n",
      "Epoch 21/24\n",
      "567/567 [==============================] - 1s 2ms/step - loss: 13488.8477 - root_mean_squared_error: 116.1415\n",
      "Epoch 22/24\n",
      "567/567 [==============================] - 1s 2ms/step - loss: 13458.6162 - root_mean_squared_error: 116.0113\n",
      "Epoch 23/24\n",
      "567/567 [==============================] - 1s 2ms/step - loss: 13401.9834 - root_mean_squared_error: 115.7669\n",
      "Epoch 24/24\n",
      "567/567 [==============================] - 1s 2ms/step - loss: 13385.8750 - root_mean_squared_error: 115.6973\n"
     ]
    },
    {
     "data": {
      "image/png": "[encoded data removed]",
      "text/plain": [
       "<Figure size 432x288 with 1 Axes>"
      ]
     },
     "metadata": {
      "needs_background": "light"
     },
     "output_type": "display_data"
    },
    {
     "name": "stdout",
     "output_type": "stream",
     "text": [
      "feature   label          predicted\n",
      "  value   value          value\n",
      "          in thousand$   in thousand$\n",
      "--------------------------------------\n",
      "    2     53             189\n",
      "    2     92             200\n",
      "    2     69             195\n",
      "    2     62             211\n",
      "    1     80             186\n",
      "    2    295             225\n",
      "    2    500             210\n",
      "    2    342             223\n",
      "    4    118             288\n",
      "    2    128             214\n",
      "    2    187             224\n",
      "    3     80             234\n",
      "    2    112             225\n",
      "    2     95             219\n",
      "    2     69             210\n"
     ]
    }
   ],
   "source": [
    "# Define a synthetic feature\n",
    "training_df[\"rooms_per_person\"] = training_df[\"total_rooms\"] / training_df[\"population\"]\n",
    "my_feature = \"rooms_per_person\"\n",
    "\n",
    "# Tune the hyperparameters.\n",
    "learning_rate = 0.06\n",
    "epochs = 24\n",
    "batch_size = 30\n",
    "\n",
    "# Don't change anything below this line.\n",
    "my_model = build_model(learning_rate)\n",
    "weight, bias, epochs, mae = train_model(my_model, training_df,\n",
    "                                        my_feature, my_label,\n",
    "                                        epochs, batch_size)\n",
    "\n",
    "plot_the_loss_curve(epochs, mae)\n",
    "predict_house_values(15, my_feature, my_label)"
   ]
  },
  {
   "cell_type": "code",
   "execution_count": null,
   "metadata": {},
   "outputs": [],
   "source": []
  }
 ],
 "metadata": {
  "kernelspec": {
   "display_name": "Python 3",
   "language": "python",
   "name": "python3"
  },
  "language_info": {
   "codemirror_mode": {
    "name": "ipython",
    "version": 3
   },
   "file_extension": ".py",
   "mimetype": "text/x-python",
   "name": "python",
   "nbconvert_exporter": "python",
   "pygments_lexer": "ipython3",
   "version": "3.7.9"
  }
 },
 "nbformat": 4,
 "nbformat_minor": 4
}
